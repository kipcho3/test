{
  "nbformat": 4,
  "nbformat_minor": 0,
  "metadata": {
    "colab": {
      "name": "step1.ipynb",
      "provenance": [],
      "authorship_tag": "ABX9TyOEiq3q5SObK+sjrOIzZQCO",
      "include_colab_link": true
    },
    "kernelspec": {
      "name": "python3",
      "display_name": "Python 3"
    }
  },
  "cells": [
    {
      "cell_type": "markdown",
      "metadata": {
        "id": "view-in-github",
        "colab_type": "text"
      },
      "source": [
        "<a href=\"https://colab.research.google.com/github/kipcho3/test/blob/master/step1.ipynb\" target=\"_parent\"><img src=\"https://colab.research.google.com/assets/colab-badge.svg\" alt=\"Open In Colab\"/></a>"
      ]
    },
    {
      "cell_type": "code",
      "metadata": {
        "id": "EeyiI_num3fK",
        "colab_type": "code",
        "colab": {
          "base_uri": "https://localhost:8080/",
          "height": 34
        },
        "outputId": "6d31d787-93e9-4c49-b8d2-8b540a9ffe5f"
      },
      "source": [
        "pip install mecab-python3"
      ],
      "execution_count": 18,
      "outputs": [
        {
          "output_type": "stream",
          "text": [
            "Requirement already satisfied: mecab-python3 in /usr/local/lib/python3.6/dist-packages (0.996.3)\n"
          ],
          "name": "stdout"
        }
      ]
    },
    {
      "cell_type": "code",
      "metadata": {
        "id": "E-5HVfZPmw2B",
        "colab_type": "code",
        "colab": {}
      },
      "source": [
        "import MeCab as mecab\n",
        "\n",
        "tagger = mecab.Tagger()"
      ],
      "execution_count": 0,
      "outputs": []
    },
    {
      "cell_type": "code",
      "metadata": {
        "id": "fQBPUzpvm9DL",
        "colab_type": "code",
        "colab": {
          "base_uri": "https://localhost:8080/",
          "height": 119
        },
        "outputId": "0ce3f72b-90b4-452b-c80d-1d2bd1a28ca5"
      },
      "source": [
        "node = tagger.parseToNode('私は私のことが好きなあなたが好きです')\n",
        "print(node.surface)\n",
        "print(node.next.surface)\n",
        "print(node.next.next.surface)\n",
        "print(node.next.next.next.surface)\n",
        "print(node.next.next.next.next.surface)\n",
        "print(node.next.next.next.next.next.surface)"
      ],
      "execution_count": 10,
      "outputs": [
        {
          "output_type": "stream",
          "text": [
            "\n",
            "私\n",
            "は\n",
            "私\n",
            "の\n",
            "こと\n"
          ],
          "name": "stdout"
        }
      ]
    },
    {
      "cell_type": "code",
      "metadata": {
        "id": "bOHNUe0pnern",
        "colab_type": "code",
        "colab": {
          "base_uri": "https://localhost:8080/",
          "height": 255
        },
        "outputId": "3244eda3-b772-453e-f4c3-a48dc3c9663d"
      },
      "source": [
        "node = tagger.parseToNode('私は私のことが好きなあなたが好きです')\n",
        "while node:\n",
        "  print(node.surface, node.feature)\n",
        "  node = node.next"
      ],
      "execution_count": 17,
      "outputs": [
        {
          "output_type": "stream",
          "text": [
            " BOS/EOS,*,*,*,*,*,*,*,*\n",
            "私 名詞,代名詞,一般,*,*,*,私,ワタシ,ワタシ\n",
            "は 助詞,係助詞,*,*,*,*,は,ハ,ワ\n",
            "私 名詞,代名詞,一般,*,*,*,私,ワタシ,ワタシ\n",
            "の 助詞,連体化,*,*,*,*,の,ノ,ノ\n",
            "こと 名詞,非自立,一般,*,*,*,こと,コト,コト\n",
            "が 助詞,格助詞,一般,*,*,*,が,ガ,ガ\n",
            "好き 名詞,形容動詞語幹,*,*,*,*,好き,スキ,スキ\n",
            "な 助動詞,*,*,*,特殊・ダ,体言接続,だ,ナ,ナ\n",
            "あなた 名詞,代名詞,一般,*,*,*,あなた,アナタ,アナタ\n",
            "が 助詞,格助詞,一般,*,*,*,が,ガ,ガ\n",
            "好き 名詞,形容動詞語幹,*,*,*,*,好き,スキ,スキ\n",
            "です 助動詞,*,*,*,特殊・デス,基本形,です,デス,デス\n",
            " BOS/EOS,*,*,*,*,*,*,*,*\n"
          ],
          "name": "stdout"
        }
      ]
    },
    {
      "cell_type": "code",
      "metadata": {
        "id": "rSyK9YIIneqF",
        "colab_type": "code",
        "colab": {}
      },
      "source": [
        ""
      ],
      "execution_count": 0,
      "outputs": []
    },
    {
      "cell_type": "code",
      "metadata": {
        "id": "04REjSLRnemM",
        "colab_type": "code",
        "colab": {}
      },
      "source": [
        ""
      ],
      "execution_count": 0,
      "outputs": []
    },
    {
      "cell_type": "code",
      "metadata": {
        "id": "IbTsOlfnnekH",
        "colab_type": "code",
        "colab": {}
      },
      "source": [
        ""
      ],
      "execution_count": 0,
      "outputs": []
    },
    {
      "cell_type": "code",
      "metadata": {
        "id": "wLQyyZWhnego",
        "colab_type": "code",
        "colab": {}
      },
      "source": [
        ""
      ],
      "execution_count": 0,
      "outputs": []
    }
  ]
}